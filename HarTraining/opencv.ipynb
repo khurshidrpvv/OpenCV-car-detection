{
 "cells": [
  {
   "cell_type": "code",
   "execution_count": 1,
   "metadata": {
    "collapsed": true
   },
   "outputs": [],
   "source": [
    "import os\n",
    "import cv2\n",
    "import numpy as np"
   ]
  },
  {
   "cell_type": "markdown",
   "metadata": {},
   "source": [
    "# Step 1:Preparation of dataset for training\n",
    "Dataset that we have downloaded have images in vaious folders,we need to have these images in two folders,one for positive images and another for negative images.\n",
    "##### Image database subfolders\n",
    "![Vehicle subfolder](https://github.com/khurshidrpvv/OpenCV-car-detection/blob/master/HarTraining/vehicle.PNG?raw=true)\n",
    "\n",
    "##### Positive Images(vehicle) Subfolders\n",
    "![alt text](https://github.com/khurshidrpvv/OpenCV-car-detection/blob/master/HarTraining/Positive.PNG?raw=true)\n",
    "\n",
    "##### Negative Images(non-vehicle) Subfolders\n",
    "![alt text](https://github.com/khurshidrpvv/OpenCV-car-detection/blob/master/HarTraining/Negative.PNG?raw=true)\n",
    "\n",
    "In each of the folder, image names stars with prefix **image** and sufix four digit number starting with **0000** eg.image0000,images0001.... .In order to merger all positives in one folder and all negatives in another we need to change the names of images to avoid the merging of files with same name, and we accomplished that by changing the sufix by changing the value of i "
   ]
  },
  {
   "cell_type": "code",
   "execution_count": null,
   "metadata": {
    "collapsed": true
   },
   "outputs": [],
   "source": [
    "# Renaming images according to our requirement\n",
    "i = 2925\n",
    "path = r'F:\\Khurshid\\Project\\OpenCvTutorial\\OwnCollection\\non-vehicles\\Right'\n",
    "for image_name in os.listdir(path):\n",
    "    old_file = os.path.join(path, image_name)\n",
    "    \n",
    "    if i < 1000:\n",
    "        new_file = os.path.join(path,'image0'+str(i)+'.png' )\n",
    "        os.rename(old_file,new_file)\n",
    "    else:\n",
    "        new_file = os.path.join(path,'image'+str(i)+'.png')\n",
    "        os.rename(old_file,new_file)\n",
    "        \n",
    "    i+=1"
   ]
  },
  {
   "cell_type": "markdown",
   "metadata": {},
   "source": [
    "# Step 2 : Creation of negative description file:\n",
    "negative description file or commonly referred as the backgroud discription file. It is a text file that contains image name with full path.Conventionally this file is names as \"bg.txt\" where bg stands for backgroud."
   ]
  },
  {
   "cell_type": "code",
   "execution_count": 11,
   "metadata": {
    "collapsed": false
   },
   "outputs": [],
   "source": [
    "def create_negative_description_file(path,file_name):\n",
    "    for image in os.listdir(path):\n",
    "        line = path+'\\\\'+image\n",
    "        with open(file_name,'a') as f:\n",
    "            f.write(line)\n",
    "            f.write('\\n')\n",
    "            \n",
    "create_negative_description_file(r'F:\\Khurshid\\Project\\OpenCvTutorial\\NegativeImages','bg.txt')"
   ]
  },
  {
   "cell_type": "markdown",
   "metadata": {},
   "source": [
    "# Step 3: Creation of positive description file:\n",
    "positive description file contains the following information.\n",
    "1. full path\n",
    "2. image name\n",
    "3. number of object of interest in image\n",
    "4. x coordinate \n",
    "5. y coordinate\n",
    "6. width \n",
    "7. Hight\n",
    "\n",
    "Our image that we downloaded has allready cropped and scaled, there is only one car in each image, (x,y) = 0, and (widht,height) = 64. So we will suffix '1 0 0 64 64 ' to create our positive description file "
   ]
  },
  {
   "cell_type": "code",
   "execution_count": 12,
   "metadata": {
    "collapsed": false
   },
   "outputs": [],
   "source": [
    "def create_positive_description_file(path,file_name):\n",
    "    #image_names = os.listdir(path)\n",
    "    for image in os.listdir(path):\n",
    "        line = path+'\\\\'+image+' 1 0 0 64 64'\n",
    "        with open(file_name,'a') as f:\n",
    "            f.write(line)\n",
    "            f.write('\\n')\n",
    "            \n",
    "\n",
    "create_positive_description_file('F:\\Khurshid\\Project\\OpenCvTutorial\\Test\\PositiveImages','test.txt')            "
   ]
  },
  {
   "cell_type": "markdown",
   "metadata": {
    "collapsed": false
   },
   "source": [
    "# Step 4 : Creation of vec file:\n",
    "vec file contains the information of positive images and it is needed for har training, it is a binary file.\n",
    "### Steps to create vec file:\n",
    "1. Go to the directory where Opencv is extracted and nevigate to \n",
    "    opencv > build > x64 > vc14 > bin \n",
    "    and copy all the files to the working directory.\n",
    "    \n",
    "    #### Files to copy\n",
    "    ![files to copy](https://github.com/khurshidrpvv/OpenCV-car-detection/blob/master/HarTraining/vec.PNG?raw=true)\n",
    "    \n",
    "    In case if you couldn't find opencv folder, [download](http://opencv.org/) and extract and then follow steps\n",
    "    \n",
    "    #### Snapshot of working directory:\n",
    "    ![working directory](https://github.com/khurshidrpvv/OpenCV-car-detection/blob/master/HarTraining/work.PNG?raw=true)\n",
    "    \n",
    "2. Openv cmd in working directory and type following command\n",
    "\n",
    "    **```opencv_createsamples -info [name of positive description file] -num [number of positive images] -w [width] -h [height] -vec [name of output vec file]```**\n",
    "    \n",
    "    #### In our case:\n",
    "    **```opencv_createsamples -info info.txt -num 1800 -w 64 -h 64 -vec cars.vec```**"
   ]
  },
  {
   "cell_type": "markdown",
   "metadata": {
    "collapsed": true
   },
   "source": [
    "This will create a vec file in working directory"
   ]
  },
  {
   "cell_type": "markdown",
   "metadata": {},
   "source": [
    "# Step 5: Har training:\n",
    "Open cmd in working directory and type following command:\n",
    "\n",
    "**```opencv_traincascade -data [outputDirectory] -vec [vec file name] -bg [negative desciption file name] -numPos [number of positives] -numNeg [number of negatives] -numStages 20 -minHitRate 0.995 -maxFalseAlarmRate 0.5 -w [width] -h [height]```**\n",
    "\n",
    "numPos is not the number or positive images used for training,instead it is calculated as:\n",
    "\n",
    "\"vec-file has to contain >= (numPose + (numStages-1) * (1 - minHitRate) * numPose) + S\"\n",
    "\n",
    "I couldn't figure out how to evaluate \"S\" but as generally \n",
    "\n",
    "numPos = 0.9*Number of positiveImages used for training\n",
    "\n",
    "#### In our case:\n",
    "numPos = 07*1800 = 762 ~ 760\n",
    "\n",
    "numNeg = 0.7*3900 = 2730\n",
    "\n",
    "create a XML folder in working directory,in this folder all stages xml will be saved\n",
    "\n",
    "**```opencv_traincascade -data F:\\Khurshid\\Project\\OpenCvTutorial\\Test\\XML -vec cars.vec -bg bg.txt -numPos 760 -numNeg 2730 -numStages 20 -minHitRate 0.995 -maxFalseAlarmRate 0.5 -w 64 -h 64```**"
   ]
  },
  {
   "cell_type": "markdown",
   "metadata": {},
   "source": [
    "It will take minimum of 24 hours to train.Once the training is finished a xml file will be generated  "
   ]
  }
 ],
 "metadata": {
  "kernelspec": {
   "display_name": "Python 3",
   "language": "python",
   "name": "python3"
  },
  "language_info": {
   "codemirror_mode": {
    "name": "ipython",
    "version": 3
   },
   "file_extension": ".py",
   "mimetype": "text/x-python",
   "name": "python",
   "nbconvert_exporter": "python",
   "pygments_lexer": "ipython3",
   "version": "3.5.1"
  }
 },
 "nbformat": 4,
 "nbformat_minor": 0
}
